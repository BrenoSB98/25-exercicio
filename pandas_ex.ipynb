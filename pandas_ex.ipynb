{
 "cells": [
  {
   "cell_type": "code",
   "execution_count": 20,
   "metadata": {},
   "outputs": [
    {
     "name": "stdout",
     "output_type": "stream",
     "text": [
      "Requirement already satisfied: pandas in c:\\users\\breno\\appdata\\local\\programs\\python\\python311\\lib\\site-packages (2.1.3)\n",
      "Requirement already satisfied: numpy<2,>=1.23.2 in c:\\users\\breno\\appdata\\local\\programs\\python\\python311\\lib\\site-packages (from pandas) (1.26.2)\n",
      "Requirement already satisfied: python-dateutil>=2.8.2 in c:\\users\\breno\\appdata\\roaming\\python\\python311\\site-packages (from pandas) (2.8.2)\n",
      "Requirement already satisfied: pytz>=2020.1 in c:\\users\\breno\\appdata\\local\\programs\\python\\python311\\lib\\site-packages (from pandas) (2023.3.post1)\n",
      "Requirement already satisfied: tzdata>=2022.1 in c:\\users\\breno\\appdata\\local\\programs\\python\\python311\\lib\\site-packages (from pandas) (2023.3)\n",
      "Requirement already satisfied: six>=1.5 in c:\\users\\breno\\appdata\\roaming\\python\\python311\\site-packages (from python-dateutil>=2.8.2->pandas) (1.16.0)\n"
     ]
    }
   ],
   "source": [
    "#!pip install pandas"
   ]
  },
  {
   "cell_type": "code",
   "execution_count": 21,
   "metadata": {},
   "outputs": [],
   "source": [
    "import pandas as pd"
   ]
  },
  {
   "cell_type": "markdown",
   "metadata": {},
   "source": [
    "(1) Crie um dataframe com a estrutura abaixo. Os índices devem ser as Equipes “X Racing”, “Equatorial”, “Typo”, “Blue Race”,”Capa Racing”. Utilize um dicionário."
   ]
  },
  {
   "cell_type": "code",
   "execution_count": 22,
   "metadata": {},
   "outputs": [
    {
     "data": {
      "text/html": [
       "<div>\n",
       "<style scoped>\n",
       "    .dataframe tbody tr th:only-of-type {\n",
       "        vertical-align: middle;\n",
       "    }\n",
       "\n",
       "    .dataframe tbody tr th {\n",
       "        vertical-align: top;\n",
       "    }\n",
       "\n",
       "    .dataframe thead th {\n",
       "        text-align: right;\n",
       "    }\n",
       "</style>\n",
       "<table border=\"1\" class=\"dataframe\">\n",
       "  <thead>\n",
       "    <tr style=\"text-align: right;\">\n",
       "      <th></th>\n",
       "      <th>Sede</th>\n",
       "      <th>Piloto</th>\n",
       "      <th>Mundiais</th>\n",
       "      <th>Vitorias</th>\n",
       "    </tr>\n",
       "  </thead>\n",
       "  <tbody>\n",
       "    <tr>\n",
       "      <th>X Racing</th>\n",
       "      <td>Nova Iorque</td>\n",
       "      <td>Mike Ross</td>\n",
       "      <td>10</td>\n",
       "      <td>321</td>\n",
       "    </tr>\n",
       "    <tr>\n",
       "      <th>Equatorial</th>\n",
       "      <td>São Paulo</td>\n",
       "      <td>Sebastian Thomas</td>\n",
       "      <td>11</td>\n",
       "      <td>229</td>\n",
       "    </tr>\n",
       "    <tr>\n",
       "      <th>Type</th>\n",
       "      <td>Nova Iorque</td>\n",
       "      <td>Glen Are</td>\n",
       "      <td>0</td>\n",
       "      <td>12</td>\n",
       "    </tr>\n",
       "    <tr>\n",
       "      <th>Blue Race</th>\n",
       "      <td>Londres</td>\n",
       "      <td>Michael Schum</td>\n",
       "      <td>3</td>\n",
       "      <td>44</td>\n",
       "    </tr>\n",
       "    <tr>\n",
       "      <th>Capa Racing</th>\n",
       "      <td>Londres</td>\n",
       "      <td>Luiz da Silva</td>\n",
       "      <td>44</td>\n",
       "      <td>1023</td>\n",
       "    </tr>\n",
       "  </tbody>\n",
       "</table>\n",
       "</div>"
      ],
      "text/plain": [
       "                    Sede            Piloto  Mundiais  Vitorias\n",
       "X Racing     Nova Iorque         Mike Ross        10       321\n",
       "Equatorial     São Paulo  Sebastian Thomas        11       229\n",
       "Type         Nova Iorque          Glen Are         0        12\n",
       "Blue Race        Londres     Michael Schum         3        44\n",
       "Capa Racing      Londres     Luiz da Silva        44      1023"
      ]
     },
     "execution_count": 22,
     "metadata": {},
     "output_type": "execute_result"
    }
   ],
   "source": [
    "data = {\n",
    "        'Sede' : ['Nova Iorque','São Paulo','Nova Iorque','Londres','Londres'],\n",
    "        'Piloto': ['Mike Ross','Sebastian Thomas','Glen Are','Michael Schum','Luiz da Silva'],\n",
    "        'Mundiais': [10,11,0,3,44],\n",
    "        'Vitorias': [321,229,12,44,1023]\n",
    "}\n",
    "df = pd.DataFrame(data, index=['X Racing','Equatorial','Type','Blue Race','Capa Racing'])\n",
    "df"
   ]
  },
  {
   "cell_type": "markdown",
   "metadata": {},
   "source": [
    "(2) Mostre todas as informações da equipe Blue Race"
   ]
  },
  {
   "cell_type": "code",
   "execution_count": 23,
   "metadata": {},
   "outputs": [
    {
     "data": {
      "text/plain": [
       "Sede              Londres\n",
       "Piloto      Michael Schum\n",
       "Mundiais                3\n",
       "Vitorias               44\n",
       "Name: Blue Race, dtype: object"
      ]
     },
     "execution_count": 23,
     "metadata": {},
     "output_type": "execute_result"
    }
   ],
   "source": [
    "df.loc['Blue Race']"
   ]
  },
  {
   "cell_type": "markdown",
   "metadata": {},
   "source": [
    "(3) Mostre o número de mundiais da equipe Capa Racing"
   ]
  },
  {
   "cell_type": "code",
   "execution_count": 24,
   "metadata": {},
   "outputs": [
    {
     "data": {
      "text/plain": [
       "44"
      ]
     },
     "execution_count": 24,
     "metadata": {},
     "output_type": "execute_result"
    }
   ],
   "source": [
    "df.loc['Capa Racing']['Mundiais']"
   ]
  },
  {
   "cell_type": "markdown",
   "metadata": {},
   "source": [
    "(4) Mostre apenas as equipes que tem 10 ou mais mundiais"
   ]
  },
  {
   "cell_type": "code",
   "execution_count": 25,
   "metadata": {},
   "outputs": [
    {
     "data": {
      "text/html": [
       "<div>\n",
       "<style scoped>\n",
       "    .dataframe tbody tr th:only-of-type {\n",
       "        vertical-align: middle;\n",
       "    }\n",
       "\n",
       "    .dataframe tbody tr th {\n",
       "        vertical-align: top;\n",
       "    }\n",
       "\n",
       "    .dataframe thead th {\n",
       "        text-align: right;\n",
       "    }\n",
       "</style>\n",
       "<table border=\"1\" class=\"dataframe\">\n",
       "  <thead>\n",
       "    <tr style=\"text-align: right;\">\n",
       "      <th></th>\n",
       "      <th>Sede</th>\n",
       "      <th>Piloto</th>\n",
       "      <th>Mundiais</th>\n",
       "      <th>Vitorias</th>\n",
       "    </tr>\n",
       "  </thead>\n",
       "  <tbody>\n",
       "    <tr>\n",
       "      <th>X Racing</th>\n",
       "      <td>Nova Iorque</td>\n",
       "      <td>Mike Ross</td>\n",
       "      <td>10</td>\n",
       "      <td>321</td>\n",
       "    </tr>\n",
       "    <tr>\n",
       "      <th>Equatorial</th>\n",
       "      <td>São Paulo</td>\n",
       "      <td>Sebastian Thomas</td>\n",
       "      <td>11</td>\n",
       "      <td>229</td>\n",
       "    </tr>\n",
       "    <tr>\n",
       "      <th>Capa Racing</th>\n",
       "      <td>Londres</td>\n",
       "      <td>Luiz da Silva</td>\n",
       "      <td>44</td>\n",
       "      <td>1023</td>\n",
       "    </tr>\n",
       "  </tbody>\n",
       "</table>\n",
       "</div>"
      ],
      "text/plain": [
       "                    Sede            Piloto  Mundiais  Vitorias\n",
       "X Racing     Nova Iorque         Mike Ross        10       321\n",
       "Equatorial     São Paulo  Sebastian Thomas        11       229\n",
       "Capa Racing      Londres     Luiz da Silva        44      1023"
      ]
     },
     "execution_count": 25,
     "metadata": {},
     "output_type": "execute_result"
    }
   ],
   "source": [
    "mask = df['Mundiais'] >= 10\n",
    "df[mask]"
   ]
  },
  {
   "cell_type": "markdown",
   "metadata": {},
   "source": [
    "(5) Mostre apenas as equipes que tem 10 ou mais mundiais e mais de 300 vitórias"
   ]
  },
  {
   "cell_type": "code",
   "execution_count": 26,
   "metadata": {},
   "outputs": [
    {
     "data": {
      "text/html": [
       "<div>\n",
       "<style scoped>\n",
       "    .dataframe tbody tr th:only-of-type {\n",
       "        vertical-align: middle;\n",
       "    }\n",
       "\n",
       "    .dataframe tbody tr th {\n",
       "        vertical-align: top;\n",
       "    }\n",
       "\n",
       "    .dataframe thead th {\n",
       "        text-align: right;\n",
       "    }\n",
       "</style>\n",
       "<table border=\"1\" class=\"dataframe\">\n",
       "  <thead>\n",
       "    <tr style=\"text-align: right;\">\n",
       "      <th></th>\n",
       "      <th>Sede</th>\n",
       "      <th>Piloto</th>\n",
       "      <th>Mundiais</th>\n",
       "      <th>Vitorias</th>\n",
       "    </tr>\n",
       "  </thead>\n",
       "  <tbody>\n",
       "    <tr>\n",
       "      <th>X Racing</th>\n",
       "      <td>Nova Iorque</td>\n",
       "      <td>Mike Ross</td>\n",
       "      <td>10</td>\n",
       "      <td>321</td>\n",
       "    </tr>\n",
       "    <tr>\n",
       "      <th>Capa Racing</th>\n",
       "      <td>Londres</td>\n",
       "      <td>Luiz da Silva</td>\n",
       "      <td>44</td>\n",
       "      <td>1023</td>\n",
       "    </tr>\n",
       "  </tbody>\n",
       "</table>\n",
       "</div>"
      ],
      "text/plain": [
       "                    Sede         Piloto  Mundiais  Vitorias\n",
       "X Racing     Nova Iorque      Mike Ross        10       321\n",
       "Capa Racing      Londres  Luiz da Silva        44      1023"
      ]
     },
     "execution_count": 26,
     "metadata": {},
     "output_type": "execute_result"
    }
   ],
   "source": [
    "mask = (df['Mundiais'] >= 0) & (df['Vitorias'] > 300)\n",
    "df[mask]"
   ]
  },
  {
   "cell_type": "markdown",
   "metadata": {},
   "source": [
    "(6) Atualize o nome do piloto da Equipe Equatorial para Antônio Racer"
   ]
  },
  {
   "cell_type": "code",
   "execution_count": 28,
   "metadata": {},
   "outputs": [
    {
     "data": {
      "text/html": [
       "<div>\n",
       "<style scoped>\n",
       "    .dataframe tbody tr th:only-of-type {\n",
       "        vertical-align: middle;\n",
       "    }\n",
       "\n",
       "    .dataframe tbody tr th {\n",
       "        vertical-align: top;\n",
       "    }\n",
       "\n",
       "    .dataframe thead th {\n",
       "        text-align: right;\n",
       "    }\n",
       "</style>\n",
       "<table border=\"1\" class=\"dataframe\">\n",
       "  <thead>\n",
       "    <tr style=\"text-align: right;\">\n",
       "      <th></th>\n",
       "      <th>Sede</th>\n",
       "      <th>Piloto</th>\n",
       "      <th>Mundiais</th>\n",
       "      <th>Vitorias</th>\n",
       "    </tr>\n",
       "  </thead>\n",
       "  <tbody>\n",
       "    <tr>\n",
       "      <th>X Racing</th>\n",
       "      <td>Nova Iorque</td>\n",
       "      <td>Mike Ross</td>\n",
       "      <td>10</td>\n",
       "      <td>321</td>\n",
       "    </tr>\n",
       "    <tr>\n",
       "      <th>Equatorial</th>\n",
       "      <td>São Paulo</td>\n",
       "      <td>Antônio Racer</td>\n",
       "      <td>11</td>\n",
       "      <td>229</td>\n",
       "    </tr>\n",
       "    <tr>\n",
       "      <th>Type</th>\n",
       "      <td>Nova Iorque</td>\n",
       "      <td>Glen Are</td>\n",
       "      <td>0</td>\n",
       "      <td>12</td>\n",
       "    </tr>\n",
       "    <tr>\n",
       "      <th>Blue Race</th>\n",
       "      <td>Londres</td>\n",
       "      <td>Michael Schum</td>\n",
       "      <td>3</td>\n",
       "      <td>44</td>\n",
       "    </tr>\n",
       "    <tr>\n",
       "      <th>Capa Racing</th>\n",
       "      <td>Londres</td>\n",
       "      <td>Luiz da Silva</td>\n",
       "      <td>44</td>\n",
       "      <td>1023</td>\n",
       "    </tr>\n",
       "  </tbody>\n",
       "</table>\n",
       "</div>"
      ],
      "text/plain": [
       "                    Sede         Piloto  Mundiais  Vitorias\n",
       "X Racing     Nova Iorque      Mike Ross        10       321\n",
       "Equatorial     São Paulo  Antônio Racer        11       229\n",
       "Type         Nova Iorque       Glen Are         0        12\n",
       "Blue Race        Londres  Michael Schum         3        44\n",
       "Capa Racing      Londres  Luiz da Silva        44      1023"
      ]
     },
     "execution_count": 28,
     "metadata": {},
     "output_type": "execute_result"
    }
   ],
   "source": [
    "df.at['Equatorial', 'Piloto'] = 'Antônio Racer'\n",
    "df"
   ]
  },
  {
   "cell_type": "markdown",
   "metadata": {},
   "source": [
    "(7) Atualize em um mesmo comando a equipe X Racing, definindo sede como São Paulo e Vitórias com 322"
   ]
  },
  {
   "cell_type": "code",
   "execution_count": 31,
   "metadata": {},
   "outputs": [
    {
     "data": {
      "text/html": [
       "<div>\n",
       "<style scoped>\n",
       "    .dataframe tbody tr th:only-of-type {\n",
       "        vertical-align: middle;\n",
       "    }\n",
       "\n",
       "    .dataframe tbody tr th {\n",
       "        vertical-align: top;\n",
       "    }\n",
       "\n",
       "    .dataframe thead th {\n",
       "        text-align: right;\n",
       "    }\n",
       "</style>\n",
       "<table border=\"1\" class=\"dataframe\">\n",
       "  <thead>\n",
       "    <tr style=\"text-align: right;\">\n",
       "      <th></th>\n",
       "      <th>Sede</th>\n",
       "      <th>Piloto</th>\n",
       "      <th>Mundiais</th>\n",
       "      <th>Vitorias</th>\n",
       "    </tr>\n",
       "  </thead>\n",
       "  <tbody>\n",
       "    <tr>\n",
       "      <th>X Racing</th>\n",
       "      <td>São Paulo</td>\n",
       "      <td>Mike Ross</td>\n",
       "      <td>10</td>\n",
       "      <td>322</td>\n",
       "    </tr>\n",
       "    <tr>\n",
       "      <th>Equatorial</th>\n",
       "      <td>São Paulo</td>\n",
       "      <td>Antônio Racer</td>\n",
       "      <td>11</td>\n",
       "      <td>229</td>\n",
       "    </tr>\n",
       "    <tr>\n",
       "      <th>Type</th>\n",
       "      <td>Nova Iorque</td>\n",
       "      <td>Glen Are</td>\n",
       "      <td>0</td>\n",
       "      <td>12</td>\n",
       "    </tr>\n",
       "    <tr>\n",
       "      <th>Blue Race</th>\n",
       "      <td>Londres</td>\n",
       "      <td>Michael Schum</td>\n",
       "      <td>3</td>\n",
       "      <td>44</td>\n",
       "    </tr>\n",
       "    <tr>\n",
       "      <th>Capa Racing</th>\n",
       "      <td>Londres</td>\n",
       "      <td>Luiz da Silva</td>\n",
       "      <td>44</td>\n",
       "      <td>1023</td>\n",
       "    </tr>\n",
       "  </tbody>\n",
       "</table>\n",
       "</div>"
      ],
      "text/plain": [
       "                    Sede         Piloto  Mundiais  Vitorias\n",
       "X Racing       São Paulo      Mike Ross        10       322\n",
       "Equatorial     São Paulo  Antônio Racer        11       229\n",
       "Type         Nova Iorque       Glen Are         0        12\n",
       "Blue Race        Londres  Michael Schum         3        44\n",
       "Capa Racing      Londres  Luiz da Silva        44      1023"
      ]
     },
     "execution_count": 31,
     "metadata": {},
     "output_type": "execute_result"
    }
   ],
   "source": [
    "df.loc['X Racing', ['Sede', 'Vitorias']] = ('São Paulo', 322)\n",
    "df"
   ]
  },
  {
   "cell_type": "markdown",
   "metadata": {},
   "source": [
    "(8) Inclua uma nova equipe Red Cow, com sede em São Paulo, Pitolo Fernando Vetel, Mundiais zero e Vitórias zero"
   ]
  },
  {
   "cell_type": "code",
   "execution_count": 32,
   "metadata": {},
   "outputs": [
    {
     "data": {
      "text/html": [
       "<div>\n",
       "<style scoped>\n",
       "    .dataframe tbody tr th:only-of-type {\n",
       "        vertical-align: middle;\n",
       "    }\n",
       "\n",
       "    .dataframe tbody tr th {\n",
       "        vertical-align: top;\n",
       "    }\n",
       "\n",
       "    .dataframe thead th {\n",
       "        text-align: right;\n",
       "    }\n",
       "</style>\n",
       "<table border=\"1\" class=\"dataframe\">\n",
       "  <thead>\n",
       "    <tr style=\"text-align: right;\">\n",
       "      <th></th>\n",
       "      <th>Sede</th>\n",
       "      <th>Piloto</th>\n",
       "      <th>Mundiais</th>\n",
       "      <th>Vitorias</th>\n",
       "    </tr>\n",
       "  </thead>\n",
       "  <tbody>\n",
       "    <tr>\n",
       "      <th>X Racing</th>\n",
       "      <td>São Paulo</td>\n",
       "      <td>Mike Ross</td>\n",
       "      <td>10</td>\n",
       "      <td>322</td>\n",
       "    </tr>\n",
       "    <tr>\n",
       "      <th>Equatorial</th>\n",
       "      <td>São Paulo</td>\n",
       "      <td>Antônio Racer</td>\n",
       "      <td>11</td>\n",
       "      <td>229</td>\n",
       "    </tr>\n",
       "    <tr>\n",
       "      <th>Type</th>\n",
       "      <td>Nova Iorque</td>\n",
       "      <td>Glen Are</td>\n",
       "      <td>0</td>\n",
       "      <td>12</td>\n",
       "    </tr>\n",
       "    <tr>\n",
       "      <th>Blue Race</th>\n",
       "      <td>Londres</td>\n",
       "      <td>Michael Schum</td>\n",
       "      <td>3</td>\n",
       "      <td>44</td>\n",
       "    </tr>\n",
       "    <tr>\n",
       "      <th>Capa Racing</th>\n",
       "      <td>Londres</td>\n",
       "      <td>Luiz da Silva</td>\n",
       "      <td>44</td>\n",
       "      <td>1023</td>\n",
       "    </tr>\n",
       "    <tr>\n",
       "      <th>Red Cow</th>\n",
       "      <td>São Paulo</td>\n",
       "      <td>Fernando Vetel</td>\n",
       "      <td>0</td>\n",
       "      <td>0</td>\n",
       "    </tr>\n",
       "  </tbody>\n",
       "</table>\n",
       "</div>"
      ],
      "text/plain": [
       "                    Sede          Piloto  Mundiais  Vitorias\n",
       "X Racing       São Paulo       Mike Ross        10       322\n",
       "Equatorial     São Paulo   Antônio Racer        11       229\n",
       "Type         Nova Iorque        Glen Are         0        12\n",
       "Blue Race        Londres   Michael Schum         3        44\n",
       "Capa Racing      Londres   Luiz da Silva        44      1023\n",
       "Red Cow        São Paulo  Fernando Vetel         0         0"
      ]
     },
     "execution_count": 32,
     "metadata": {},
     "output_type": "execute_result"
    }
   ],
   "source": [
    "df.loc['Red Cow'] = ('São Paulo', 'Fernando Vetel', 0, 0)\n",
    "df"
   ]
  },
  {
   "cell_type": "markdown",
   "metadata": {},
   "source": [
    "(9) Ordene o dataframe de forma decrescente pelo número de vitórias"
   ]
  },
  {
   "cell_type": "code",
   "execution_count": 35,
   "metadata": {},
   "outputs": [
    {
     "data": {
      "text/html": [
       "<div>\n",
       "<style scoped>\n",
       "    .dataframe tbody tr th:only-of-type {\n",
       "        vertical-align: middle;\n",
       "    }\n",
       "\n",
       "    .dataframe tbody tr th {\n",
       "        vertical-align: top;\n",
       "    }\n",
       "\n",
       "    .dataframe thead th {\n",
       "        text-align: right;\n",
       "    }\n",
       "</style>\n",
       "<table border=\"1\" class=\"dataframe\">\n",
       "  <thead>\n",
       "    <tr style=\"text-align: right;\">\n",
       "      <th></th>\n",
       "      <th>Sede</th>\n",
       "      <th>Piloto</th>\n",
       "      <th>Mundiais</th>\n",
       "      <th>Vitorias</th>\n",
       "    </tr>\n",
       "  </thead>\n",
       "  <tbody>\n",
       "    <tr>\n",
       "      <th>Capa Racing</th>\n",
       "      <td>Londres</td>\n",
       "      <td>Luiz da Silva</td>\n",
       "      <td>44</td>\n",
       "      <td>1023</td>\n",
       "    </tr>\n",
       "    <tr>\n",
       "      <th>X Racing</th>\n",
       "      <td>São Paulo</td>\n",
       "      <td>Mike Ross</td>\n",
       "      <td>10</td>\n",
       "      <td>322</td>\n",
       "    </tr>\n",
       "    <tr>\n",
       "      <th>Equatorial</th>\n",
       "      <td>São Paulo</td>\n",
       "      <td>Antônio Racer</td>\n",
       "      <td>11</td>\n",
       "      <td>229</td>\n",
       "    </tr>\n",
       "    <tr>\n",
       "      <th>Blue Race</th>\n",
       "      <td>Londres</td>\n",
       "      <td>Michael Schum</td>\n",
       "      <td>3</td>\n",
       "      <td>44</td>\n",
       "    </tr>\n",
       "    <tr>\n",
       "      <th>Type</th>\n",
       "      <td>Nova Iorque</td>\n",
       "      <td>Glen Are</td>\n",
       "      <td>0</td>\n",
       "      <td>12</td>\n",
       "    </tr>\n",
       "    <tr>\n",
       "      <th>Red Cow</th>\n",
       "      <td>São Paulo</td>\n",
       "      <td>Fernando Vetel</td>\n",
       "      <td>0</td>\n",
       "      <td>0</td>\n",
       "    </tr>\n",
       "  </tbody>\n",
       "</table>\n",
       "</div>"
      ],
      "text/plain": [
       "                    Sede          Piloto  Mundiais  Vitorias\n",
       "Capa Racing      Londres   Luiz da Silva        44      1023\n",
       "X Racing       São Paulo       Mike Ross        10       322\n",
       "Equatorial     São Paulo   Antônio Racer        11       229\n",
       "Blue Race        Londres   Michael Schum         3        44\n",
       "Type         Nova Iorque        Glen Are         0        12\n",
       "Red Cow        São Paulo  Fernando Vetel         0         0"
      ]
     },
     "execution_count": 35,
     "metadata": {},
     "output_type": "execute_result"
    }
   ],
   "source": [
    "df.sort_values('Vitorias', ascending=False, na_position='first', inplace=False)\n"
   ]
  }
 ],
 "metadata": {
  "kernelspec": {
   "display_name": "Python 3",
   "language": "python",
   "name": "python3"
  },
  "language_info": {
   "codemirror_mode": {
    "name": "ipython",
    "version": 3
   },
   "file_extension": ".py",
   "mimetype": "text/x-python",
   "name": "python",
   "nbconvert_exporter": "python",
   "pygments_lexer": "ipython3",
   "version": "3.11.5"
  }
 },
 "nbformat": 4,
 "nbformat_minor": 2
}
