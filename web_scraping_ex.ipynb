{
 "cells": [
  {
   "cell_type": "markdown",
   "metadata": {},
   "source": [
    "### Importando Bibliotecas"
   ]
  },
  {
   "cell_type": "code",
   "execution_count": 2,
   "metadata": {},
   "outputs": [
    {
     "name": "stdout",
     "output_type": "stream",
     "text": [
      "Requirement already satisfied: urllib3 in c:\\users\\breno\\appdata\\local\\programs\\python\\python311\\lib\\site-packages (2.1.0)\n",
      "Collecting bs4\n",
      "  Downloading bs4-0.0.2-py2.py3-none-any.whl.metadata (411 bytes)\n",
      "Collecting beautifulsoup4 (from bs4)\n",
      "  Downloading beautifulsoup4-4.12.3-py3-none-any.whl.metadata (3.8 kB)\n",
      "Collecting soupsieve>1.2 (from beautifulsoup4->bs4)\n",
      "  Downloading soupsieve-2.5-py3-none-any.whl.metadata (4.7 kB)\n",
      "Downloading bs4-0.0.2-py2.py3-none-any.whl (1.2 kB)\n",
      "Downloading beautifulsoup4-4.12.3-py3-none-any.whl (147 kB)\n",
      "   ---------------------------------------- 0.0/147.9 kB ? eta -:--:--\n",
      "   -- ------------------------------------- 10.2/147.9 kB ? eta -:--:--\n",
      "   ---------------------------------------- 147.9/147.9 kB 2.9 MB/s eta 0:00:00\n",
      "Downloading soupsieve-2.5-py3-none-any.whl (36 kB)\n",
      "Installing collected packages: soupsieve, beautifulsoup4, bs4\n",
      "Successfully installed beautifulsoup4-4.12.3 bs4-0.0.2 soupsieve-2.5\n"
     ]
    }
   ],
   "source": [
    "!pip install urllib3\n",
    "!pip install bs4"
   ]
  },
  {
   "cell_type": "code",
   "execution_count": 3,
   "metadata": {},
   "outputs": [],
   "source": [
    "import pandas as pd\n",
    "import urllib3\n",
    "from bs4 import BeautifulSoup"
   ]
  },
  {
   "cell_type": "markdown",
   "metadata": {},
   "source": [
    "### Resolvendo Exercicios"
   ]
  },
  {
   "cell_type": "markdown",
   "metadata": {},
   "source": [
    "1 - Pegue a hora e a data do site horario de brasilia"
   ]
  },
  {
   "cell_type": "code",
   "execution_count": 9,
   "metadata": {},
   "outputs": [],
   "source": [
    "def request_url(url):\n",
    "    urllib3.disable_warnings(urllib3.exceptions.InsecureRequestWarning)\n",
    "    manager = urllib3.PoolManager()\n",
    "    return manager.request('GET', url, headers={'User-Agent': 'Edge'})\n",
    "\n",
    "def read_url(url):\n",
    "    return BeautifulSoup(request_url(url).data, 'html.parser')"
   ]
  },
  {
   "cell_type": "code",
   "execution_count": 15,
   "metadata": {},
   "outputs": [
    {
     "name": "stdout",
     "output_type": "stream",
     "text": [
      "Sexta-feira, 19 de janeiro de 2024\n",
      "13:33:45\n"
     ]
    }
   ],
   "source": [
    "bs = read_url('https://www.horariodebrasilia.org/')\n",
    "print(bs.find('h3', id='dia-topo').text)\n",
    "print(bs.find('p', id='relogio').text)"
   ]
  },
  {
   "cell_type": "markdown",
   "metadata": {},
   "source": [
    "2 - Pegue uma tabela completa do site Wikipédia e crie um DataFrame com a tabela"
   ]
  },
  {
   "cell_type": "code",
   "execution_count": 16,
   "metadata": {},
   "outputs": [
    {
     "data": {
      "text/html": [
       "<div>\n",
       "<style scoped>\n",
       "    .dataframe tbody tr th:only-of-type {\n",
       "        vertical-align: middle;\n",
       "    }\n",
       "\n",
       "    .dataframe tbody tr th {\n",
       "        vertical-align: top;\n",
       "    }\n",
       "\n",
       "    .dataframe thead th {\n",
       "        text-align: right;\n",
       "    }\n",
       "</style>\n",
       "<table border=\"1\" class=\"dataframe\">\n",
       "  <thead>\n",
       "    <tr style=\"text-align: right;\">\n",
       "      <th></th>\n",
       "      <th>País</th>\n",
       "      <th>Riqueza Total por Bilhões (USD)</th>\n",
       "    </tr>\n",
       "    <tr>\n",
       "      <th>Posição</th>\n",
       "      <th></th>\n",
       "      <th></th>\n",
       "    </tr>\n",
       "  </thead>\n",
       "  <tbody>\n",
       "    <tr>\n",
       "      <th>—</th>\n",
       "      <td>Mundo</td>\n",
       "      <td>317.084\\n</td>\n",
       "    </tr>\n",
       "    <tr>\n",
       "      <th>—</th>\n",
       "      <td>América do Norte</td>\n",
       "      <td>106.513\\n</td>\n",
       "    </tr>\n",
       "    <tr>\n",
       "      <th>—</th>\n",
       "      <td>Ásia</td>\n",
       "      <td>105.946\\n</td>\n",
       "    </tr>\n",
       "    <tr>\n",
       "      <th>1</th>\n",
       "      <td>Estados Unidos</td>\n",
       "      <td>98.154\\n</td>\n",
       "    </tr>\n",
       "    <tr>\n",
       "      <th>—</th>\n",
       "      <td>Europa</td>\n",
       "      <td>85.402\\n</td>\n",
       "    </tr>\n",
       "    <tr>\n",
       "      <th>...</th>\n",
       "      <td>...</td>\n",
       "      <td>...</td>\n",
       "    </tr>\n",
       "    <tr>\n",
       "      <th>96</th>\n",
       "      <td>Nepal</td>\n",
       "      <td>35\\n</td>\n",
       "    </tr>\n",
       "    <tr>\n",
       "      <th>97</th>\n",
       "      <td>Ilhas Maurícias</td>\n",
       "      <td>34\\n</td>\n",
       "    </tr>\n",
       "    <tr>\n",
       "      <th>98</th>\n",
       "      <td>Costa do Marfim</td>\n",
       "      <td>34\\n</td>\n",
       "    </tr>\n",
       "    <tr>\n",
       "      <th>99</th>\n",
       "      <td>Camboja</td>\n",
       "      <td>33\\n</td>\n",
       "    </tr>\n",
       "    <tr>\n",
       "      <th>100</th>\n",
       "      <td>Papua-Nova Guiné</td>\n",
       "      <td>28\\n</td>\n",
       "    </tr>\n",
       "  </tbody>\n",
       "</table>\n",
       "<p>107 rows × 2 columns</p>\n",
       "</div>"
      ],
      "text/plain": [
       "                      País Riqueza Total por Bilhões (USD)\n",
       "Posição                                                   \n",
       "—                    Mundo                       317.084\\n\n",
       "—         América do Norte                       106.513\\n\n",
       "—                     Ásia                       105.946\\n\n",
       "1           Estados Unidos                        98.154\\n\n",
       "—                   Europa                        85.402\\n\n",
       "...                    ...                             ...\n",
       "96                   Nepal                            35\\n\n",
       "97         Ilhas Maurícias                            34\\n\n",
       "98         Costa do Marfim                            34\\n\n",
       "99                 Camboja                            33\\n\n",
       "100       Papua-Nova Guiné                            28\\n\n",
       "\n",
       "[107 rows x 2 columns]"
      ]
     },
     "execution_count": 16,
     "metadata": {},
     "output_type": "execute_result"
    }
   ],
   "source": [
    "def read_table():\n",
    "    bs = read_url('https://pt.wikipedia.org/wiki/Lista_de_pa%C3%ADses_por_riqueza_total')\n",
    "    table = bs.find('table', style='text-align: right')\n",
    "    if (table == None):\n",
    "        raise Exception(\"Table not found\")\n",
    "    \n",
    "    body_table = table.find(\"tbody\")\n",
    "    if (body_table == None):\n",
    "        raise Exception(\"Body of table not found\")\n",
    "\n",
    "    items = body_table.find_all('tr')\n",
    "\n",
    "    country = []\n",
    "    for item in items:\n",
    "        data = item.find_all('td')\n",
    "        country_items = []\n",
    "        for dt in data:\n",
    "            country_items.append(dt.text.replace('\\xa0',''))\n",
    "            \n",
    "        if len(country_items)> 0:\n",
    "            country.append(country_items)\n",
    "    return country\n",
    "\n",
    "read_table()\n",
    "\n",
    "df = pd.DataFrame(read_table(), columns=['Posição','País','Riqueza Total por Bilhões (USD)'])\n",
    "df.set_index('Posição')"
   ]
  }
 ],
 "metadata": {
  "kernelspec": {
   "display_name": "Python 3",
   "language": "python",
   "name": "python3"
  },
  "language_info": {
   "codemirror_mode": {
    "name": "ipython",
    "version": 3
   },
   "file_extension": ".py",
   "mimetype": "text/x-python",
   "name": "python",
   "nbconvert_exporter": "python",
   "pygments_lexer": "ipython3",
   "version": "3.11.5"
  }
 },
 "nbformat": 4,
 "nbformat_minor": 2
}
